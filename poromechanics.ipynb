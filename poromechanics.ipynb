{
 "cells": [
  {
   "cell_type": "markdown",
   "metadata": {},
   "source": [
    "# Вывод закона сохранения энергии\n",
    "\n",
    "Закон сохранения массы\n",
    "$$\\displaystyle{}\\frac{\\partial r_{a}}{\\partial t}+\\partial_i\\left(v_i^a r_a\\right)=j_{ab}$$\n",
    "\n",
    "Закон сохранения импульса\n",
    "$$\\displaystyle{}r_a\\frac{\\partial v_i^a}{\\partial t}+r_a v_j^a\\partial_j v_i^a=\\partial_j T_{ij}^a+b_i^{int,a}+f_i^a$$\n",
    "\n",
    "\n",
    "В законе сохранения энергии впервые появляются тепло и температура\n",
    "\n",
    "$$\\displaystyle{}\\delta Q=\\left[\\iiint\\limits_{V}{\\left(r_a Q_a+Q_a^{int,a}\\right)}dV-\\oiint\\limits_{\\partial V} h_a dS\\right]dt$$\n",
    "\n",
    "$h_a$ - поток тепла"
   ]
  },
  {
   "cell_type": "markdown",
   "metadata": {},
   "source": []
  },
  {
   "cell_type": "code",
   "execution_count": null,
   "metadata": {},
   "outputs": [],
   "source": []
  }
 ],
 "metadata": {
  "language_info": {
   "name": "python"
  },
  "orig_nbformat": 4
 },
 "nbformat": 4,
 "nbformat_minor": 2
}
