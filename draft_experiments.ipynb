{
 "cells": [
  {
   "cell_type": "code",
   "execution_count": 1,
   "metadata": {},
   "outputs": [
    {
     "data": {
      "text/latex": [
       "$\\displaystyle x^{2} - x^{3} + \\frac{11 x^{4}}{12} + O\\left(x^{5}\\right)$"
      ],
      "text/plain": [
       "x**2 - x**3 + 11*x**4/12 + O(x**5)"
      ]
     },
     "execution_count": 1,
     "metadata": {},
     "output_type": "execute_result"
    }
   ],
   "source": [
    "from sympy import *\n",
    "x, y, z = symbols('x y z')\n",
    "expr = sin(ln(x+1)**2)\n",
    "expr.series(x, 0, 5)"
   ]
  },
  {
   "cell_type": "code",
   "execution_count": 2,
   "metadata": {},
   "outputs": [
    {
     "name": "stdout",
     "output_type": "stream",
     "text": [
      "Node('/1')\n",
      "├── Node('/1/2')\n",
      "│   └── Node('/1/2/4')\n",
      "└── Node('/1/3')\n",
      "    ├── Node('/1/3/5')\n",
      "    ├── Node('/1/3/6')\n",
      "    └── Node('/1/3/7')\n"
     ]
    }
   ],
   "source": [
    "from anytree import Node, RenderTree\n",
    "from anytree.exporter import DotExporter\n",
    "# from graphviz import Source, render\n",
    "# import os\n",
    "\n",
    "n1 = Node('1')\n",
    "n2 = Node('2', parent=n1)\n",
    "n3 = Node('3', parent=n1)\n",
    "n4 = Node('4', parent=n2)\n",
    "n5 = Node('5', parent=n3)\n",
    "n6 = Node('6', parent=n3)\n",
    "n7 = Node('7', parent=n3)\n",
    "print(RenderTree(n1))\n",
    "DotExporter(n1).to_dotfile('simple_tree.dot')\n",
    "\n",
    "#Source.from_file('simple_tree.dot')\n",
    "\n",
    "#render('dot','png', 'simple_tree.dot')"
   ]
  },
  {
   "cell_type": "code",
   "execution_count": 3,
   "metadata": {},
   "outputs": [],
   "source": [
    "import igraph as ig\n",
    "\n",
    "graph = ig.Graph(directed=True)\n",
    "graph.add_vertices(5)\n",
    "\n",
    "for i in range(len(graph.vs)):\n",
    "    graph.vs[i]['id'] = i\n",
    "    graph.vs[i]['label'] = str(i)\n",
    "\n",
    "graph.add_edges([(1,2), (3,4)])\n",
    "weights = [8, 7]\n",
    "graph.es['weight'] = weights\n",
    "graph.es['label'] = weights"
   ]
  },
  {
   "cell_type": "code",
   "execution_count": 4,
   "metadata": {},
   "outputs": [
    {
     "data": {
      "text/plain": [
       "<igraph.Graph at 0x1dfb20a48b0>"
      ]
     },
     "execution_count": 4,
     "metadata": {},
     "output_type": "execute_result"
    }
   ],
   "source": [
    "# ig.plot(graph)\n",
    "# len(graph.es)\n",
    "graph"
   ]
  },
  {
   "cell_type": "code",
   "execution_count": null,
   "metadata": {},
   "outputs": [],
   "source": []
  }
 ],
 "metadata": {
  "interpreter": {
   "hash": "f1db8b532af68f394552095bf01668e033c55fe6f315fc65b53074148e4e6572"
  },
  "kernelspec": {
   "display_name": "Python 3.9.7 64-bit",
   "language": "python",
   "name": "python3"
  },
  "language_info": {
   "codemirror_mode": {
    "name": "ipython",
    "version": 3
   },
   "file_extension": ".py",
   "mimetype": "text/x-python",
   "name": "python",
   "nbconvert_exporter": "python",
   "pygments_lexer": "ipython3",
   "version": "3.9.7"
  },
  "orig_nbformat": 4
 },
 "nbformat": 4,
 "nbformat_minor": 2
}
