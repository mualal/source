{
 "cells": [
  {
   "cell_type": "markdown",
   "metadata": {},
   "source": [
    "## Предварительные эксперименты с функциями для парсера"
   ]
  },
  {
   "cell_type": "markdown",
   "metadata": {},
   "source": [
    "Архитектура парсера:\n",
    "1) Открыть файл по заданному расположению (путь) и выгрузить из него данные\n",
    "2) Проверить корректность выгруженных данных\n",
    "3) Очистить мусор (лишние знаки, которые не воспринимаются расчётчиком)\n",
    "4) Выделить секции (ключевые слова, выделить строки)\n",
    "5) Создать таблицу (csv-файл)"
   ]
  },
  {
   "cell_type": "markdown",
   "metadata": {},
   "source": [
    "Инструментарий:\n",
    "1) os, pathlib (для считывания файла, путь к которому указан)\n",
    "2) pandas и numpy\n",
    "3) re (работа с регулярными выражениями)\n",
    "4) sqlite3 (БД)\n",
    "5) ООП / функциональный подход\n",
    "6) GUI (PyQT, PySide, Tkinter, SwiftUI)\n",
    "7) Exceptions\n",
    "8) Logging (заносим результаты работы в текстовый файл)\n",
    "9) Unit-tests, PyTest, Quality Assessment (QA)\n",
    "10) Визуализация (matplotlib, plotly, seaborn)\n",
    "11) Реализация в соответствии с PEP8 и аннотирование типов\n",
    "12) Pull-request на GitHub, code-review\n",
    "13) Для ускорения работы (multithreading и async multiprocessing)"
   ]
  },
  {
   "cell_type": "markdown",
   "metadata": {},
   "source": []
  }
 ],
 "metadata": {
  "language_info": {
   "name": "python"
  },
  "orig_nbformat": 4
 },
 "nbformat": 4,
 "nbformat_minor": 2
}
